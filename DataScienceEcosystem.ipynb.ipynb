{
  "metadata": {
    "kernelspec": {
      "name": "python",
      "display_name": "Python (Pyodide)",
      "language": "python"
    },
    "language_info": {
      "codemirror_mode": {
        "name": "python",
        "version": 3
      },
      "file_extension": ".py",
      "mimetype": "text/x-python",
      "name": "python",
      "nbconvert_exporter": "python",
      "pygments_lexer": "ipython3",
      "version": "3.8"
    }
  },
  "nbformat_minor": 5,
  "nbformat": 4,
  "cells": [
    {
      "id": "68af0a03-d660-4d69-9918-8ca937191ce3",
      "cell_type": "markdown",
      "source": "#Data Science Tools and Ecosystem",
      "metadata": {}
    },
    {
      "id": "c94d0cd6-7a5d-4def-b835-80e9a8c09430",
      "cell_type": "markdown",
      "source": "In this notebook, Data Science Tools and Ecosystem are summarized.\n",
      "metadata": {}
    },
    {
      "id": "efc10317-a1f2-42cd-8015-ed20c9194ae1",
      "cell_type": "markdown",
      "source": "Some of the popular languages that Data Scientists use are",
      "metadata": {}
    },
    {
      "id": "3ec93d0f-7dc6-490a-b88f-be2b0e87b720",
      "cell_type": "markdown",
      "source": "1-python\n2-r language\n3-java script\n",
      "metadata": {}
    },
    {
      "id": "6bdc92e0-89c5-40fb-a7f8-8e37563dc987",
      "cell_type": "markdown",
      "source": "Some of the commonly used libraries used by Data Scientists include:\n",
      "metadata": {}
    },
    {
      "id": "30ce782b-8809-4d1b-b484-47282e3dcb68",
      "cell_type": "markdown",
      "source": "1-numpay\n2-pandas\n3-matlabpoint",
      "metadata": {}
    },
    {
      "id": "6b683b85-9bec-48e2-af92-6cde29a9bb8a",
      "cell_type": "markdown",
      "source": "Data Science Tools",
      "metadata": {}
    },
    {
      "id": "ad72eefc-d4b4-40ab-a06f-dd745fde49b6",
      "cell_type": "markdown",
      "source": "jypyter notebbok",
      "metadata": {}
    },
    {
      "id": "73357bf3-5be7-46e5-90bf-fce6b8849aa6",
      "cell_type": "markdown",
      "source": "r studio",
      "metadata": {}
    },
    {
      "id": "cef3d869-185b-48d8-970c-398c8feeb9a3",
      "cell_type": "markdown",
      "source": "Apache Zeppelin",
      "metadata": {}
    },
    {
      "id": "bbf0086d-e0a4-4d6e-99e2-0a508c2eda43",
      "cell_type": "markdown",
      "source": "Below are a few examples of evaluating arithmetic expressions in Python",
      "metadata": {}
    },
    {
      "id": "edc7cf51-ac0d-4fe2-a940-64cede7b6124",
      "cell_type": "code",
      "source": "print(5+5)\n",
      "metadata": {
        "trusted": true
      },
      "outputs": [
        {
          "name": "stdout",
          "output_type": "stream",
          "text": "10\n"
        }
      ],
      "execution_count": 5
    },
    {
      "id": "8f07861a-42cf-4194-813c-b9b53829272c",
      "cell_type": "code",
      "source": "print(10+5)",
      "metadata": {
        "trusted": true
      },
      "outputs": [
        {
          "name": "stdout",
          "output_type": "stream",
          "text": "15\n"
        }
      ],
      "execution_count": 6
    },
    {
      "id": "aa114dff-d436-4e1d-99d2-b252051125dc",
      "cell_type": "code",
      "source": "print(5*5)",
      "metadata": {
        "trusted": true
      },
      "outputs": [
        {
          "name": "stdout",
          "output_type": "stream",
          "text": "25\n"
        }
      ],
      "execution_count": 7
    },
    {
      "id": "8530b7e4-caeb-4cf9-ba9f-db2596e7081b",
      "cell_type": "code",
      "source": "print(10/2)",
      "metadata": {
        "trusted": true
      },
      "outputs": [
        {
          "name": "stdout",
          "output_type": "stream",
          "text": "5.0\n"
        }
      ],
      "execution_count": 8
    },
    {
      "id": "a07cbcd1-ec9e-4f86-87b9-5651e827b2bd",
      "cell_type": "code",
      "source": "print((3*4)+5) #This a simple arithmetic expression to mutiply then add integers",
      "metadata": {
        "trusted": true
      },
      "outputs": [
        {
          "name": "stdout",
          "output_type": "stream",
          "text": "17\n"
        }
      ],
      "execution_count": 11
    },
    {
      "id": "f2f709fe-2b07-4856-8e92-383bbb47c886",
      "cell_type": "code",
      "source": "print(200/60)#This will convert 200 minutes to hours by diving by 60",
      "metadata": {
        "trusted": true
      },
      "outputs": [
        {
          "name": "stdout",
          "output_type": "stream",
          "text": "3.3333333333333335\n"
        }
      ],
      "execution_count": 13
    },
    {
      "id": "d286a838-3201-4bb5-9916-a50ad027c71e",
      "cell_type": "markdown",
      "source": "**Objectives**",
      "metadata": {}
    },
    {
      "id": "e2c3001c-73e6-491f-8bde-5706ece36d98",
      "cell_type": "markdown",
      "source": "-Create a code cell to convert minutes to hours\n-Below are a few examples of evaluating arithmetic expressions in Python\n-Some of the commonly used libraries used by Data Scientists include\n-Some of the popular languages that Data Scientists use are\n-Data Science Tools\n",
      "metadata": {}
    },
    {
      "id": "14226bce-3538-47d3-a774-18d4ce8fd0b0",
      "cell_type": "markdown",
      "source": "##Author\nMuhammad Asghar",
      "metadata": {}
    },
    {
      "id": "f0b2ae73-6d2f-4a2e-bfd3-ee4865b620d0",
      "cell_type": "code",
      "source": "",
      "metadata": {
        "trusted": true
      },
      "outputs": [],
      "execution_count": null
    }
  ]
}